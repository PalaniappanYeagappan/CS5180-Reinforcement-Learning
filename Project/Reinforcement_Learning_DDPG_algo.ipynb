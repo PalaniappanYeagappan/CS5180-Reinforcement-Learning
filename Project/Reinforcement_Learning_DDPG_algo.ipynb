{
  "cells": [
    {
      "cell_type": "code",
      "execution_count": null,
      "metadata": {
        "ExecuteTime": {
          "end_time": "2021-12-06T07:59:42.424210Z",
          "start_time": "2021-12-06T07:59:41.648886Z"
        },
        "colab": {
          "base_uri": "https://localhost:8080/"
        },
        "id": "kmgfgPTnRVwy",
        "outputId": "23175adc-2b27-4315-fa98-9b55874e1708"
      },
      "outputs": [
        {
          "output_type": "stream",
          "name": "stdout",
          "text": [
            "2.5.1+cu121\n",
            "False\n"
          ]
        }
      ],
      "source": [
        "import copy\n",
        "import math\n",
        "import os\n",
        "from collections import namedtuple\n",
        "\n",
        "import gym\n",
        "import ipywidgets as widgets\n",
        "import matplotlib.pyplot as plt\n",
        "import more_itertools as mitt\n",
        "\n",
        "import numpy as np\n",
        "import torch\n",
        "import torch.nn as nn\n",
        "import torch.nn.functional as F\n",
        "\n",
        "import tqdm\n",
        "from tqdm import trange\n",
        "import random\n",
        "import time\n",
        "from collections import deque\n",
        "import matplotlib.pyplot as plt\n",
        "\n",
        "plt.style.use('ggplot')\n",
        "plt.rcParams['figure.figsize'] = [12, 4]\n",
        "\n",
        "device = torch.device('cuda' if torch.cuda.is_available() else 'cpu')\n",
        "print(torch.__version__)\n",
        "print(torch.cuda.is_available())"
      ]
    },
    {
      "cell_type": "code",
      "source": [
        "pip install Box2D"
      ],
      "metadata": {
        "colab": {
          "base_uri": "https://localhost:8080/"
        },
        "id": "ks3CdesURgXK",
        "outputId": "7773c5d1-b6d2-408c-daa1-f6da5432067c"
      },
      "execution_count": null,
      "outputs": [
        {
          "output_type": "stream",
          "name": "stderr",
          "text": [
            "/usr/local/lib/python3.10/dist-packages/ipykernel/ipkernel.py:283: DeprecationWarning: `should_run_async` will not call `transform_cell` automatically in the future. Please pass the result to `transformed_cell` argument and any exception that happen during thetransform in `preprocessing_exc_tuple` in IPython 7.17 and above.\n",
            "  and should_run_async(code)\n"
          ]
        },
        {
          "output_type": "stream",
          "name": "stdout",
          "text": [
            "Requirement already satisfied: Box2D in /usr/local/lib/python3.10/dist-packages (2.3.10)\n"
          ]
        }
      ]
    },
    {
      "cell_type": "code",
      "source": [
        "pip install gym[box2d]"
      ],
      "metadata": {
        "colab": {
          "base_uri": "https://localhost:8080/"
        },
        "id": "BPOf5rbARvuZ",
        "outputId": "b94cbc5b-012b-4a55-ee52-814fcf61df2f"
      },
      "execution_count": null,
      "outputs": [
        {
          "output_type": "stream",
          "name": "stdout",
          "text": [
            "Requirement already satisfied: gym[box2d] in /usr/local/lib/python3.10/dist-packages (0.25.2)\n",
            "Requirement already satisfied: numpy>=1.18.0 in /usr/local/lib/python3.10/dist-packages (from gym[box2d]) (1.26.4)\n",
            "Requirement already satisfied: cloudpickle>=1.2.0 in /usr/local/lib/python3.10/dist-packages (from gym[box2d]) (3.1.0)\n",
            "Requirement already satisfied: gym_notices>=0.0.4 in /usr/local/lib/python3.10/dist-packages (from gym[box2d]) (0.0.8)\n",
            "Collecting box2d-py==2.3.5 (from gym[box2d])\n",
            "  Using cached box2d-py-2.3.5.tar.gz (374 kB)\n",
            "  Preparing metadata (setup.py) ... \u001b[?25l\u001b[?25hdone\n",
            "Collecting pygame==2.1.0 (from gym[box2d])\n",
            "  Using cached pygame-2.1.0-cp310-cp310-manylinux_2_17_x86_64.manylinux2014_x86_64.whl.metadata (9.5 kB)\n",
            "Collecting swig==4.* (from gym[box2d])\n",
            "  Using cached swig-4.3.0-py2.py3-none-manylinux_2_5_x86_64.manylinux1_x86_64.whl.metadata (3.5 kB)\n",
            "Using cached pygame-2.1.0-cp310-cp310-manylinux_2_17_x86_64.manylinux2014_x86_64.whl (18.3 MB)\n",
            "Using cached swig-4.3.0-py2.py3-none-manylinux_2_5_x86_64.manylinux1_x86_64.whl (1.9 MB)\n",
            "Building wheels for collected packages: box2d-py\n",
            "  \u001b[1;31merror\u001b[0m: \u001b[1msubprocess-exited-with-error\u001b[0m\n",
            "  \n",
            "  \u001b[31m×\u001b[0m \u001b[32mpython setup.py bdist_wheel\u001b[0m did not run successfully.\n",
            "  \u001b[31m│\u001b[0m exit code: \u001b[1;36m1\u001b[0m\n",
            "  \u001b[31m╰─>\u001b[0m See above for output.\n",
            "  \n",
            "  \u001b[1;35mnote\u001b[0m: This error originates from a subprocess, and is likely not a problem with pip.\n",
            "  Building wheel for box2d-py (setup.py) ... \u001b[?25lerror\n",
            "\u001b[31m  ERROR: Failed building wheel for box2d-py\u001b[0m\u001b[31m\n",
            "\u001b[0m\u001b[?25h  Running setup.py clean for box2d-py\n",
            "Failed to build box2d-py\n",
            "\u001b[31mERROR: ERROR: Failed to build installable wheels for some pyproject.toml based projects (box2d-py)\u001b[0m\u001b[31m\n",
            "\u001b[0m"
          ]
        }
      ]
    },
    {
      "cell_type": "code",
      "execution_count": null,
      "metadata": {
        "ExecuteTime": {
          "end_time": "2021-12-06T07:59:43.563938Z",
          "start_time": "2021-12-06T07:59:43.529104Z"
        },
        "colab": {
          "base_uri": "https://localhost:8080/"
        },
        "id": "n7LSBLnZRVwz",
        "outputId": "16004afd-2e8a-4685-c723-88dd70df6142"
      },
      "outputs": [
        {
          "output_type": "stream",
          "name": "stderr",
          "text": [
            "<frozen importlib._bootstrap>:241: DeprecationWarning: builtin type SwigPyPacked has no __module__ attribute\n",
            "<frozen importlib._bootstrap>:241: DeprecationWarning: builtin type SwigPyObject has no __module__ attribute\n",
            "<frozen importlib._bootstrap>:241: DeprecationWarning: builtin type swigvarlink has no __module__ attribute\n",
            "/usr/local/lib/python3.10/dist-packages/pygame/pkgdata.py:25: DeprecationWarning: pkg_resources is deprecated as an API. See https://setuptools.pypa.io/en/latest/pkg_resources.html\n",
            "  from pkg_resources import resource_stream, resource_exists\n",
            "/usr/local/lib/python3.10/dist-packages/pkg_resources/__init__.py:3149: DeprecationWarning: Deprecated call to `pkg_resources.declare_namespace('google')`.\n",
            "Implementing implicit namespace packages (as specified in PEP 420) is preferred to `pkg_resources.declare_namespace`. See https://setuptools.pypa.io/en/latest/references/keywords.html#keyword-namespace-packages\n",
            "  declare_namespace(pkg)\n",
            "/usr/local/lib/python3.10/dist-packages/pkg_resources/__init__.py:3149: DeprecationWarning: Deprecated call to `pkg_resources.declare_namespace('google.cloud')`.\n",
            "Implementing implicit namespace packages (as specified in PEP 420) is preferred to `pkg_resources.declare_namespace`. See https://setuptools.pypa.io/en/latest/references/keywords.html#keyword-namespace-packages\n",
            "  declare_namespace(pkg)\n",
            "/usr/local/lib/python3.10/dist-packages/pkg_resources/__init__.py:3149: DeprecationWarning: Deprecated call to `pkg_resources.declare_namespace('sphinxcontrib')`.\n",
            "Implementing implicit namespace packages (as specified in PEP 420) is preferred to `pkg_resources.declare_namespace`. See https://setuptools.pypa.io/en/latest/references/keywords.html#keyword-namespace-packages\n",
            "  declare_namespace(pkg)\n",
            "/usr/local/lib/python3.10/dist-packages/gym/core.py:317: DeprecationWarning: \u001b[33mWARN: Initializing wrapper in old step API which returns one bool instead of two. It is recommended to set `new_step_api=True` to use new step API. This will be the default behaviour in future.\u001b[0m\n",
            "  deprecation(\n",
            "/usr/local/lib/python3.10/dist-packages/gym/wrappers/step_api_compatibility.py:39: DeprecationWarning: \u001b[33mWARN: Initializing environment in old step API which returns one bool instead of two. It is recommended to set `new_step_api=True` to use new step API. This will be the default behaviour in future.\u001b[0m\n",
            "  deprecation(\n",
            "/usr/local/lib/python3.10/dist-packages/gym/core.py:256: DeprecationWarning: \u001b[33mWARN: Function `env.seed(seed)` is marked as deprecated and will be removed in the future. Please use `env.reset(seed=seed)` instead.\u001b[0m\n",
            "  deprecation(\n"
          ]
        }
      ],
      "source": [
        "env = gym.make('BipedalWalker-v3')\n",
        "env_button = {'BipedalWalker-v3': env}\n",
        "\n",
        "# Set seeds\n",
        "seed = 88\n",
        "env.seed(seed)\n",
        "torch.manual_seed(seed)\n",
        "np.random.seed(seed)"
      ]
    },
    {
      "cell_type": "code",
      "execution_count": null,
      "metadata": {
        "ExecuteTime": {
          "end_time": "2021-12-06T07:59:44.425757Z",
          "start_time": "2021-12-06T07:59:44.404267Z"
        },
        "id": "65uj1ygoRVwz"
      },
      "outputs": [],
      "source": [
        "def render(env, policy=None):\n",
        "    \"\"\"Graphically render an episode using the given policy\n",
        "\n",
        "    :param env:  Gym environment\n",
        "    :param policy:  function which maps state to action.  If None, the random\n",
        "                    policy is used.\n",
        "    \"\"\"\n",
        "\n",
        "    if policy is None:\n",
        "\n",
        "        def policy(s):\n",
        "            return env.action_space.sample()\n",
        "\n",
        "    s = env.reset()\n",
        "    env.render()\n",
        "\n",
        "    while True:\n",
        "        a = policy(s)\n",
        "        s, _, done, _ = env.step(a)\n",
        "        env.render()\n",
        "\n",
        "        if done:\n",
        "            break\n",
        "\n",
        "    env.close()"
      ]
    },
    {
      "cell_type": "code",
      "execution_count": null,
      "metadata": {
        "ExecuteTime": {
          "end_time": "2021-12-06T07:59:45.276832Z",
          "start_time": "2021-12-06T07:59:45.240124Z"
        },
        "colab": {
          "base_uri": "https://localhost:8080/",
          "height": 66,
          "referenced_widgets": [
            "c225b12676a44a6dab61791cde83963c",
            "5526500c4a944da6b2bc0e1a5a24af4d",
            "c5a32d0251e6443782a8f177ad5e8ffe",
            "f501c10fdba04a3ea9853bc50dfd5c43",
            "d66417933999422eb960fb5faa6738c1"
          ]
        },
        "id": "_edxbMBjRVwz",
        "outputId": "5672725a-254d-4dd2-aa43-0b701e176248"
      },
      "outputs": [
        {
          "output_type": "stream",
          "name": "stdout",
          "text": [
            "Click a button to run a random policy:\n"
          ]
        },
        {
          "output_type": "display_data",
          "data": {
            "text/plain": [
              "HBox(children=(Button(description='BipedalWalker-v3', style=ButtonStyle()),))"
            ],
            "application/vnd.jupyter.widget-view+json": {
              "version_major": 2,
              "version_minor": 0,
              "model_id": "c225b12676a44a6dab61791cde83963c"
            }
          },
          "metadata": {}
        }
      ],
      "source": [
        "# Code based on: CS5180 Homework 6: Deep Q-Networks in Pytorch\n",
        "\n",
        "def button_callback(button):\n",
        "    for b in buttons:\n",
        "        b.disabled = True\n",
        "\n",
        "    env = env_button[button.description]\n",
        "    render(env)\n",
        "    env.close()\n",
        "\n",
        "    for b in buttons:\n",
        "        b.disabled = False\n",
        "\n",
        "buttons = []\n",
        "for env_id in env_button.keys():\n",
        "    button = widgets.Button(description=env_id)\n",
        "    button.on_click(button_callback)\n",
        "    buttons.append(button)\n",
        "\n",
        "print('Click a button to run a random policy:')\n",
        "widgets.HBox(buttons)"
      ]
    },
    {
      "cell_type": "code",
      "execution_count": null,
      "metadata": {
        "ExecuteTime": {
          "end_time": "2021-12-06T07:59:46.194135Z",
          "start_time": "2021-12-06T07:59:46.172361Z"
        },
        "id": "pw__nkPiRVwz"
      },
      "outputs": [],
      "source": [
        "class Actor(nn.Module):\n",
        "    def __init__(self, s_size, a_size, a_max):\n",
        "        super(Actor, self).__init__()\n",
        "\n",
        "        self.l1 = nn.Linear(s_size, 400)\n",
        "        self.l2 = nn.Linear(400, 300)\n",
        "        self.l3 = nn.Linear(300, a_size)\n",
        "\n",
        "        self.a_max = a_max\n",
        "\n",
        "    def forward(self, x):\n",
        "        x = F.relu(self.l1(x))\n",
        "        x = F.relu(self.l2(x))\n",
        "        x = self.a_max * torch.tanh(self.l3(x))\n",
        "\n",
        "        return x\n",
        "\n",
        "class Critic(nn.Module):\n",
        "    def __init__(self, s_size, a_size):\n",
        "        super(Critic, self).__init__()\n",
        "\n",
        "        self.l1 = nn.Linear(s_size + a_size, 400)\n",
        "        self.l2 = nn.Linear(400, 300)\n",
        "        self.l3 = nn.Linear(300, 1)\n",
        "\n",
        "    def forward(self, x, u):\n",
        "        xu = torch.cat([x, u], 1)\n",
        "        x1 = self.l3(F.relu(self.l2(F.relu(self.l1(xu)))))\n",
        "\n",
        "        return x1"
      ]
    },
    {
      "cell_type": "code",
      "execution_count": null,
      "metadata": {
        "ExecuteTime": {
          "end_time": "2021-12-06T08:00:11.113673Z",
          "start_time": "2021-12-06T08:00:11.091598Z"
        },
        "id": "AP16AdLmRVw0"
      },
      "outputs": [],
      "source": [
        "class Buffer(object):\n",
        "    def __init__(self, s_size, a_size, max_size=int(1e6)):\n",
        "        self.max_size = max_size\n",
        "\n",
        "        self.s = torch.empty((max_size, s_size))\n",
        "        self.a = torch.empty((max_size, a_size))\n",
        "        self.n_s = torch.empty((max_size, s_size))\n",
        "        self.r = torch.empty((max_size, 1))\n",
        "        self.done = torch.empty((max_size, 1))\n",
        "\n",
        "        self.idx = 0\n",
        "        self.size = 0\n",
        "\n",
        "    def add(self, s, a, n_s,  r, done):\n",
        "\n",
        "        self.s[self.idx] = torch.as_tensor(s).to(device)\n",
        "        self.a[self.idx] = torch.as_tensor(a).to(device)\n",
        "        self.n_s[self.idx] = torch.as_tensor(n_s).to(device)\n",
        "        self.r[self.idx] = torch.as_tensor(r).to(device)\n",
        "        self.done[self.idx] = torch.as_tensor(1 - done).to(device)\n",
        "\n",
        "        self.idx = (self.idx + 1) % self.max_size\n",
        "        self.size = min(self.size + 1, self.max_size)\n",
        "\n",
        "    def sample(self, batch_size):\n",
        "        sample_idx = np.random.randint(0, self.size, size=batch_size)\n",
        "\n",
        "        s = torch.as_tensor(self.s[sample_idx]).to(device)\n",
        "        a_cpu = torch.as_tensor(self.a[sample_idx])\n",
        "        n_s = torch.as_tensor(self.n_s[sample_idx]).to(device)\n",
        "        r = torch.as_tensor(self.r[sample_idx]).to(device)\n",
        "        done = torch.as_tensor(self.done[sample_idx]).to(device)\n",
        "\n",
        "        return (s, a_cpu, n_s, r, done)"
      ]
    },
    {
      "cell_type": "code",
      "execution_count": null,
      "metadata": {
        "ExecuteTime": {
          "end_time": "2021-12-06T08:00:22.229056Z",
          "start_time": "2021-12-06T08:00:22.202145Z"
        },
        "id": "0QUKoN6ZRVw0"
      },
      "outputs": [],
      "source": [
        "class DDPG(object):\n",
        "    def __init__(self, s_size, a_size, a_max):\n",
        "        self.actor = Actor(s_size, a_size, a_max).to(device)\n",
        "        self.actor_target = Actor(s_size, a_size, a_max).to(device)\n",
        "        self.actor_optimizer = torch.optim.Adam(self.actor.parameters())\n",
        "\n",
        "        self.critic = Critic(s_size, a_size).to(device)\n",
        "        self.critic_target = Critic(s_size, a_size).to(device)\n",
        "        self.critic_optimizer = torch.optim.Adam(self.critic.parameters())\n",
        "\n",
        "        self.a_max = a_max\n",
        "\n",
        "    def Action(self, s):\n",
        "        s= torch.FloatTensor(s.reshape(1, -1)).to(device)\n",
        "        return self.actor(s).cpu().data.numpy().flatten()\n",
        "\n",
        "    def train(self, buffer, iterations, batch_size=100, discount=0.99, \\\n",
        "              tau=0.005, policy_noise=0.2, noise_clip=0.5, policy_freq=2):\n",
        "\n",
        "        for it in range(iterations):\n",
        "\n",
        "            # Sample replay buffer\n",
        "            s, a_cpu, n_s, r, done = buffer.sample(batch_size)\n",
        "            a = torch.as_tensor(a_cpu).to(device)\n",
        "\n",
        "            # Select action according to policy and add clipped noise\n",
        "            noise = torch.FloatTensor(a_cpu).data.normal_(0, policy_noise).to(device)\n",
        "            noise = noise.clamp(-noise_clip, noise_clip)\n",
        "            n_a = (self.actor_target(n_s) + noise).clamp(-self.a_max, self.a_max)\n",
        "\n",
        "            target_Q = self.critic_target(n_s, n_a)\n",
        "            target_Q = r + (done * discount * target_Q).detach()\n",
        "\n",
        "            # Get current Q estimates\n",
        "            current_Q1 = self.critic(s, a)\n",
        "\n",
        "            # Compute critic loss\n",
        "            critic_loss = F.mse_loss(current_Q1, target_Q)\n",
        "\n",
        "            # Optimize the critic\n",
        "            self.critic_optimizer.zero_grad()\n",
        "            critic_loss.backward()\n",
        "            self.critic_optimizer.step()\n",
        "\n",
        "            # Compute actor loss\n",
        "            actor_loss = -self.critic.forward(s, self.actor(s))[0].mean()\n",
        "            # Optimize the actor\n",
        "            self.actor_optimizer.zero_grad()\n",
        "            actor_loss.backward()\n",
        "            self.actor_optimizer.step()\n",
        "\n",
        "            # Update the frozen target models\n",
        "            for param, target_param in zip(self.critic.parameters(), self.critic_target.parameters()):\n",
        "                target_param.data.copy_(tau * param.data + (1 - tau) * target_param.data)\n",
        "\n",
        "            for param, target_param in zip(self.actor.parameters(), self.actor_target.parameters()):\n",
        "                target_param.data.copy_(tau * param.data + (1 - tau) * target_param.data)\n"
      ]
    },
    {
      "cell_type": "code",
      "execution_count": null,
      "metadata": {
        "id": "tRgp_niwRVw0"
      },
      "outputs": [],
      "source": [
        "def Train(episodes, save_every=10):\n",
        "\n",
        "    time_start = time.time()\n",
        "\n",
        "    T_start = 1e4\n",
        "    T_total = 0\n",
        "    steps = 0\n",
        "\n",
        "    deq_scores = deque(maxlen=100)\n",
        "    scores = []\n",
        "    Avg_Scores = []\n",
        "\n",
        "    a_max = float(env.action_space.high[0])\n",
        "    a_size = env.action_space.shape[0]\n",
        "    s_size = env.observation_space.shape[0]\n",
        "\n",
        "    agent = DDPG(s_size, a_size, a_max)\n",
        "    buffer = Buffer(s_size, a_size)\n",
        "\n",
        "    for i in trange(1, episodes + 1):\n",
        "\n",
        "        timestep = 0\n",
        "        timestep_max = env._max_episode_steps\n",
        "\n",
        "        R = 0\n",
        "        s = env.reset()\n",
        "\n",
        "        while True:\n",
        "            if T_total < T_start:\n",
        "                a = env.action_space.sample()\n",
        "\n",
        "            else:\n",
        "                a = agent.Action(np.array(s)) + np.random.normal(0, 0.1, size = a_size)\n",
        "                a = (a).clip(env.action_space.low, env.action_space.high)\n",
        "\n",
        "            n_s, r, done, _ = env.step(a)\n",
        "\n",
        "            timestep += 1\n",
        "            T_total += 1\n",
        "            steps += 1\n",
        "\n",
        "            R += r\n",
        "            done_ = done\n",
        "\n",
        "            if timestep == timestep_max:\n",
        "                done_ = 0\n",
        "\n",
        "            buffer.add(s, a, n_s, r, done_)\n",
        "            s = n_s\n",
        "\n",
        "            if done:\n",
        "                break\n",
        "\n",
        "        deq_scores.append(R)\n",
        "        scores.append(R)\n",
        "\n",
        "        avg_score = np.mean(deq_scores)\n",
        "        Avg_Scores.append(avg_score)\n",
        "\n",
        "        s = (int)(time.time() - time_start)\n",
        "        print('Ep. {}, Timestep {},  Ep.Timesteps {}, Score: {:.2f}, Avg.Score: {:.2f}, Time: {:02}:{:02}:{:02} '\\\n",
        "                .format(i, T_total, timestep, \\\n",
        "                        R, avg_score, s//3600, s%3600//60, s%60))\n",
        "\n",
        "        agent.train(buffer, timestep)\n",
        "\n",
        "        if len(deq_scores) == 100 and np.mean(deq_scores) >= 300.5:\n",
        "            print('Environment solved with Average Score: ',  np.mean(deq_scores) )\n",
        "            break\n",
        "\n",
        "    return scores, Avg_Scores"
      ]
    },
    {
      "cell_type": "code",
      "execution_count": null,
      "metadata": {
        "tags": [],
        "colab": {
          "base_uri": "https://localhost:8080/"
        },
        "id": "Y2tnZA71RVw0",
        "outputId": "6756bdf2-396a-4be2-8c21-5f18b909ef3c"
      },
      "outputs": [
        {
          "output_type": "stream",
          "name": "stderr",
          "text": [
            "100%|██████████| 2000/2000 [1:43:28<00:00,  3.10s/it]\n"
          ]
        }
      ],
      "source": [
        "scores, Avg_Scores = Train(episodes = 2000)"
      ]
    },
    {
      "cell_type": "code",
      "execution_count": null,
      "metadata": {
        "colab": {
          "base_uri": "https://localhost:8080/",
          "height": 409
        },
        "id": "36aSy2yRRVw1",
        "outputId": "a23082f9-f827-4192-b0b5-b8758975f9b2"
      },
      "outputs": [
        {
          "output_type": "stream",
          "name": "stdout",
          "text": [
            "length of scores:  2000 , len of average scores:  2000\n"
          ]
        },
        {
          "output_type": "display_data",
          "data": {
            "text/plain": [
              "<Figure size 1200x400 with 1 Axes>"
            ],
            "image/png": "[encoded data removed]"
          },
          "metadata": {}
        }
      ],
      "source": [
        "%matplotlib inline\n",
        "\n",
        "print('length of scores: ', len(scores), ', len of average scores: ', len(Avg_Scores))\n",
        "\n",
        "fig = plt.figure()\n",
        "ax = fig.add_subplot(111)\n",
        "plt.plot(np.arange(1, len(scores) + 1), scores, label=\"Score\")\n",
        "plt.plot(np.arange(1, len(Avg_Scores) + 1), Avg_Scores, label=\"Avg on 100 episodes\")\n",
        "plt.legend(bbox_to_anchor=(1.05, 1))\n",
        "plt.ylabel('Score')\n",
        "plt.xlabel('Episodes #')\n",
        "plt.show()"
      ]
    },
    {
      "cell_type": "code",
      "execution_count": null,
      "metadata": {
        "colab": {
          "base_uri": "https://localhost:8080/",
          "height": 121
        },
        "id": "62lmA4y6RVw2",
        "outputId": "65a016dc-11c1-442e-f67c-8a9ba0bf7f92"
      },
      "outputs": [
        {
          "output_type": "execute_result",
          "data": {
            "text/plain": [
              "<bound method Wrapper.close of <TimeLimit<OrderEnforcing<StepAPICompatibility<PassiveEnvChecker<BipedalWalker<BipedalWalker-v3>>>>>>>"
            ],
            "text/html": [
              "<div style=\"max-width:800px; border: 1px solid var(--colab-border-color);\"><style>\n",
              "      pre.function-repr-contents {\n",
              "        overflow-x: auto;\n",
              "        padding: 8px 12px;\n",
              "        max-height: 500px;\n",
              "      }\n",
              "\n",
              "      pre.function-repr-contents.function-repr-contents-collapsed {\n",
              "        cursor: pointer;\n",
              "        max-height: 100px;\n",
              "      }\n",
              "    </style>\n",
              "    <pre style=\"white-space: initial; background:\n",
              "         var(--colab-secondary-surface-color); padding: 8px 12px;\n",
              "         border-bottom: 1px solid var(--colab-border-color);\"><b>gym.core.Wrapper.close</b><br/>def close()</pre><pre class=\"function-repr-contents function-repr-contents-collapsed\" style=\"\"><a class=\"filepath\" style=\"display:none\" href=\"#\">/usr/local/lib/python3.10/dist-packages/gym/core.py</a>Closes the environment.</pre>\n",
              "      <script>\n",
              "      if (google.colab.kernel.accessAllowed && google.colab.files && google.colab.files.view) {\n",
              "        for (const element of document.querySelectorAll('.filepath')) {\n",
              "          element.style.display = 'block'\n",
              "          element.onclick = (event) => {\n",
              "            event.preventDefault();\n",
              "            event.stopPropagation();\n",
              "            google.colab.files.view(element.textContent, 423);\n",
              "          };\n",
              "        }\n",
              "      }\n",
              "      for (const element of document.querySelectorAll('.function-repr-contents')) {\n",
              "        element.onclick = (event) => {\n",
              "          event.preventDefault();\n",
              "          event.stopPropagation();\n",
              "          element.classList.toggle('function-repr-contents-collapsed');\n",
              "        };\n",
              "      }\n",
              "      </script>\n",
              "      </div>"
            ]
          },
          "metadata": {},
          "execution_count": 16
        }
      ],
      "source": [
        "env.close"
      ]
    },
    {
      "cell_type": "code",
      "source": [],
      "metadata": {
        "id": "Od6pncaTrIIG"
      },
      "execution_count": null,
      "outputs": []
    }
  ],
  "metadata": {
    "kernelspec": {
      "display_name": "Python 3",
      "language": "python",
      "name": "python3"
    },
    "language_info": {
      "codemirror_mode": {
        "name": "ipython",
        "version": 3
      },
      "file_extension": ".py",
      "mimetype": "text/x-python",
      "name": "python",
      "nbconvert_exporter": "python",
      "pygments_lexer": "ipython3",
      "version": "3.6.13"
    },
    "widgets": {
      "application/vnd.jupyter.widget-state+json": {
        "c225b12676a44a6dab61791cde83963c": {
          "model_module": "@jupyter-widgets/controls",
          "model_name": "HBoxModel",
          "model_module_version": "1.5.0",
          "state": {
            "_dom_classes": [],
            "_model_module": "@jupyter-widgets/controls",
            "_model_module_version": "1.5.0",
            "_model_name": "HBoxModel",
            "_view_count": null,
            "_view_module": "@jupyter-widgets/controls",
            "_view_module_version": "1.5.0",
            "_view_name": "HBoxView",
            "box_style": "",
            "children": [
              "IPY_MODEL_5526500c4a944da6b2bc0e1a5a24af4d"
            ],
            "layout": "IPY_MODEL_c5a32d0251e6443782a8f177ad5e8ffe"
          }
        },
        "5526500c4a944da6b2bc0e1a5a24af4d": {
          "model_module": "@jupyter-widgets/controls",
          "model_name": "ButtonModel",
          "model_module_version": "1.5.0",
          "state": {
            "_dom_classes": [],
            "_model_module": "@jupyter-widgets/controls",
            "_model_module_version": "1.5.0",
            "_model_name": "ButtonModel",
            "_view_count": null,
            "_view_module": "@jupyter-widgets/controls",
            "_view_module_version": "1.5.0",
            "_view_name": "ButtonView",
            "button_style": "",
            "description": "BipedalWalker-v3",
            "disabled": false,
            "icon": "",
            "layout": "IPY_MODEL_f501c10fdba04a3ea9853bc50dfd5c43",
            "style": "IPY_MODEL_d66417933999422eb960fb5faa6738c1",
            "tooltip": ""
          }
        },
        "c5a32d0251e6443782a8f177ad5e8ffe": {
          "model_module": "@jupyter-widgets/base",
          "model_name": "LayoutModel",
          "model_module_version": "1.2.0",
          "state": {
            "_model_module": "@jupyter-widgets/base",
            "_model_module_version": "1.2.0",
            "_model_name": "LayoutModel",
            "_view_count": null,
            "_view_module": "@jupyter-widgets/base",
            "_view_module_version": "1.2.0",
            "_view_name": "LayoutView",
            "align_content": null,
            "align_items": null,
            "align_self": null,
            "border": null,
            "bottom": null,
            "display": null,
            "flex": null,
            "flex_flow": null,
            "grid_area": null,
            "grid_auto_columns": null,
            "grid_auto_flow": null,
            "grid_auto_rows": null,
            "grid_column": null,
            "grid_gap": null,
            "grid_row": null,
            "grid_template_areas": null,
            "grid_template_columns": null,
            "grid_template_rows": null,
            "height": null,
            "justify_content": null,
            "justify_items": null,
            "left": null,
            "margin": null,
            "max_height": null,
            "max_width": null,
            "min_height": null,
            "min_width": null,
            "object_fit": null,
            "object_position": null,
            "order": null,
            "overflow": null,
            "overflow_x": null,
            "overflow_y": null,
            "padding": null,
            "right": null,
            "top": null,
            "visibility": null,
            "width": null
          }
        },
        "f501c10fdba04a3ea9853bc50dfd5c43": {
          "model_module": "@jupyter-widgets/base",
          "model_name": "LayoutModel",
          "model_module_version": "1.2.0",
          "state": {
            "_model_module": "@jupyter-widgets/base",
            "_model_module_version": "1.2.0",
            "_model_name": "LayoutModel",
            "_view_count": null,
            "_view_module": "@jupyter-widgets/base",
            "_view_module_version": "1.2.0",
            "_view_name": "LayoutView",
            "align_content": null,
            "align_items": null,
            "align_self": null,
            "border": null,
            "bottom": null,
            "display": null,
            "flex": null,
            "flex_flow": null,
            "grid_area": null,
            "grid_auto_columns": null,
            "grid_auto_flow": null,
            "grid_auto_rows": null,
            "grid_column": null,
            "grid_gap": null,
            "grid_row": null,
            "grid_template_areas": null,
            "grid_template_columns": null,
            "grid_template_rows": null,
            "height": null,
            "justify_content": null,
            "justify_items": null,
            "left": null,
            "margin": null,
            "max_height": null,
            "max_width": null,
            "min_height": null,
            "min_width": null,
            "object_fit": null,
            "object_position": null,
            "order": null,
            "overflow": null,
            "overflow_x": null,
            "overflow_y": null,
            "padding": null,
            "right": null,
            "top": null,
            "visibility": null,
            "width": null
          }
        },
        "d66417933999422eb960fb5faa6738c1": {
          "model_module": "@jupyter-widgets/controls",
          "model_name": "ButtonStyleModel",
          "model_module_version": "1.5.0",
          "state": {
            "_model_module": "@jupyter-widgets/controls",
            "_model_module_version": "1.5.0",
            "_model_name": "ButtonStyleModel",
            "_view_count": null,
            "_view_module": "@jupyter-widgets/base",
            "_view_module_version": "1.2.0",
            "_view_name": "StyleView",
            "button_color": null,
            "font_weight": ""
          }
        }
      }
    },
    "colab": {
      "provenance": []
    }
  },
  "nbformat": 4,
  "nbformat_minor": 0
}